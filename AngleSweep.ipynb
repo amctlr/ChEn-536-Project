## This code actually works
import serial
import time
import math

ser = serial.Serial(
    port='COM6',
    baudrate=115200,
    timeout=1
)

def send_command(command):
    ser.reset_input_buffer()  # Clear any pending input
    ser.write(f"{command}\r\n".encode())
    time.sleep(0.2)  # Wait for processing
    
    while ser.in_waiting:
        response = ser.readline().decode().strip()
        if response:  # Only print non-empty responses
            print(f"Pico response: {response}")

def send_angles(pitch, yaw):
    command = f"ANGLE {pitch} {yaw}"
    send_command(command)

try:
    # Clear initial buffer
    time.sleep(2)
    ser.reset_input_buffer()
    
    # Parameters for circular sweep
    radius = 45  # Radius of the circle in degrees (max 90)
    center_pitch = 0  # Center position
    center_yaw = 0
    angular_speed = 2  # Degrees per step
    
    angle = 0
    while True:
        # Calculate pitch and yaw for circular motion
        pitch = center_pitch + radius * math.sin(math.radians(angle))
        yaw = center_yaw + radius * math.cos(math.radians(angle))
        
        # Send the calculated angles
        send_angles(pitch, yaw)
        
        # Increment angle for next position
        angle = (angle + angular_speed) % 360
        
        # Small delay to control speed of movement
        time.sleep(0.05)

finally:
    ser.close()
    print("Serial connection closed")
